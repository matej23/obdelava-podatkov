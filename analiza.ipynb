{
 "cells": [
  {
   "cell_type": "markdown",
   "metadata": {},
   "source": [
    "# ANALIZA PODATKOV\n",
    "Podatke najprej uvozimo iz primerne datoteke in si nato ogledamo \"prejeto\" tabelo.\n",
    "Pomen podatkov lahko v večini bralec prek naslova posamezne naslovne vrstice razbere sam, vredno je le omeniti, da fg_pct predstavlja povprečje vseh metov iz igre, stolpci fg3_pct, fg2_pct, ft_pct pa po isti logiki predstavljajo povprečje metov za 3 ali 2 točki oziroma povprečje prostih metov (gre le za način zapisa, ki je v svetu košarke zelo popularen)."
   ]
  },
  {
   "cell_type": "code",
   "execution_count": 1,
   "metadata": {},
   "outputs": [
    {
     "data": {
      "text/html": [
       "<div>\n",
       "<style scoped>\n",
       "    .dataframe tbody tr th:only-of-type {\n",
       "        vertical-align: middle;\n",
       "    }\n",
       "\n",
       "    .dataframe tbody tr th {\n",
       "        vertical-align: top;\n",
       "    }\n",
       "\n",
       "    .dataframe thead th {\n",
       "        text-align: right;\n",
       "    }\n",
       "</style>\n",
       "<table border=\"1\" class=\"dataframe\">\n",
       "  <thead>\n",
       "    <tr style=\"text-align: right;\">\n",
       "      <th></th>\n",
       "      <th>name surname</th>\n",
       "      <th>position</th>\n",
       "      <th>fg_pct</th>\n",
       "      <th>fg3_pct</th>\n",
       "      <th>fg2_pct</th>\n",
       "      <th>ft_pct</th>\n",
       "      <th>rebounds</th>\n",
       "      <th>asists</th>\n",
       "      <th>points_per_game</th>\n",
       "    </tr>\n",
       "  </thead>\n",
       "  <tbody>\n",
       "    <tr>\n",
       "      <th>0</th>\n",
       "      <td>Tom Abernethy</td>\n",
       "      <td>PF</td>\n",
       "      <td>0.42</td>\n",
       "      <td>0.00</td>\n",
       "      <td>0.42</td>\n",
       "      <td>0.63</td>\n",
       "      <td>1.57</td>\n",
       "      <td>0.62</td>\n",
       "      <td>2.35</td>\n",
       "    </tr>\n",
       "    <tr>\n",
       "      <th>1</th>\n",
       "      <td>Alvan Adams</td>\n",
       "      <td>C</td>\n",
       "      <td>0.50</td>\n",
       "      <td>0.09</td>\n",
       "      <td>0.50</td>\n",
       "      <td>0.81</td>\n",
       "      <td>6.22</td>\n",
       "      <td>3.86</td>\n",
       "      <td>12.53</td>\n",
       "    </tr>\n",
       "    <tr>\n",
       "      <th>2</th>\n",
       "      <td>Dennis Awtrey</td>\n",
       "      <td>C</td>\n",
       "      <td>0.42</td>\n",
       "      <td>0.00</td>\n",
       "      <td>0.42</td>\n",
       "      <td>0.63</td>\n",
       "      <td>2.70</td>\n",
       "      <td>1.13</td>\n",
       "      <td>2.33</td>\n",
       "    </tr>\n",
       "    <tr>\n",
       "      <th>3</th>\n",
       "      <td>Gus Bailey</td>\n",
       "      <td>SG</td>\n",
       "      <td>0.46</td>\n",
       "      <td>1.00</td>\n",
       "      <td>0.44</td>\n",
       "      <td>0.39</td>\n",
       "      <td>1.40</td>\n",
       "      <td>1.30</td>\n",
       "      <td>1.90</td>\n",
       "    </tr>\n",
       "    <tr>\n",
       "      <th>4</th>\n",
       "      <td>James Bailey</td>\n",
       "      <td>PF</td>\n",
       "      <td>0.48</td>\n",
       "      <td>0.04</td>\n",
       "      <td>0.48</td>\n",
       "      <td>0.70</td>\n",
       "      <td>4.78</td>\n",
       "      <td>0.80</td>\n",
       "      <td>8.56</td>\n",
       "    </tr>\n",
       "    <tr>\n",
       "      <th>...</th>\n",
       "      <td>...</td>\n",
       "      <td>...</td>\n",
       "      <td>...</td>\n",
       "      <td>...</td>\n",
       "      <td>...</td>\n",
       "      <td>...</td>\n",
       "      <td>...</td>\n",
       "      <td>...</td>\n",
       "      <td>...</td>\n",
       "    </tr>\n",
       "    <tr>\n",
       "      <th>3119</th>\n",
       "      <td>Coby White</td>\n",
       "      <td>PG</td>\n",
       "      <td>0.39</td>\n",
       "      <td>0.35</td>\n",
       "      <td>0.43</td>\n",
       "      <td>0.79</td>\n",
       "      <td>3.50</td>\n",
       "      <td>2.70</td>\n",
       "      <td>13.20</td>\n",
       "    </tr>\n",
       "    <tr>\n",
       "      <th>3120</th>\n",
       "      <td>Grant Williams</td>\n",
       "      <td>PF</td>\n",
       "      <td>0.41</td>\n",
       "      <td>0.25</td>\n",
       "      <td>0.55</td>\n",
       "      <td>0.72</td>\n",
       "      <td>2.60</td>\n",
       "      <td>1.00</td>\n",
       "      <td>3.40</td>\n",
       "    </tr>\n",
       "    <tr>\n",
       "      <th>3121</th>\n",
       "      <td>Nigel Williams-Goss</td>\n",
       "      <td>PG</td>\n",
       "      <td>0.31</td>\n",
       "      <td>0.29</td>\n",
       "      <td>0.33</td>\n",
       "      <td>1.00</td>\n",
       "      <td>0.60</td>\n",
       "      <td>0.60</td>\n",
       "      <td>1.40</td>\n",
       "    </tr>\n",
       "    <tr>\n",
       "      <th>3122</th>\n",
       "      <td>Zion Williamson</td>\n",
       "      <td>PF</td>\n",
       "      <td>0.58</td>\n",
       "      <td>0.43</td>\n",
       "      <td>0.59</td>\n",
       "      <td>0.64</td>\n",
       "      <td>6.30</td>\n",
       "      <td>2.10</td>\n",
       "      <td>22.50</td>\n",
       "    </tr>\n",
       "    <tr>\n",
       "      <th>3123</th>\n",
       "      <td>Justin Wright-Foreman</td>\n",
       "      <td>PG</td>\n",
       "      <td>0.35</td>\n",
       "      <td>0.20</td>\n",
       "      <td>0.50</td>\n",
       "      <td>0.75</td>\n",
       "      <td>1.30</td>\n",
       "      <td>1.80</td>\n",
       "      <td>4.80</td>\n",
       "    </tr>\n",
       "  </tbody>\n",
       "</table>\n",
       "<p>3124 rows × 9 columns</p>\n",
       "</div>"
      ],
      "text/plain": [
       "               name surname position  fg_pct  fg3_pct  fg2_pct  ft_pct  \\\n",
       "0             Tom Abernethy       PF    0.42     0.00     0.42    0.63   \n",
       "1               Alvan Adams        C    0.50     0.09     0.50    0.81   \n",
       "2             Dennis Awtrey        C    0.42     0.00     0.42    0.63   \n",
       "3                Gus Bailey       SG    0.46     1.00     0.44    0.39   \n",
       "4              James Bailey       PF    0.48     0.04     0.48    0.70   \n",
       "...                     ...      ...     ...      ...      ...     ...   \n",
       "3119             Coby White       PG    0.39     0.35     0.43    0.79   \n",
       "3120         Grant Williams       PF    0.41     0.25     0.55    0.72   \n",
       "3121    Nigel Williams-Goss       PG    0.31     0.29     0.33    1.00   \n",
       "3122        Zion Williamson       PF    0.58     0.43     0.59    0.64   \n",
       "3123  Justin Wright-Foreman       PG    0.35     0.20     0.50    0.75   \n",
       "\n",
       "      rebounds  asists  points_per_game  \n",
       "0         1.57    0.62             2.35  \n",
       "1         6.22    3.86            12.53  \n",
       "2         2.70    1.13             2.33  \n",
       "3         1.40    1.30             1.90  \n",
       "4         4.78    0.80             8.56  \n",
       "...        ...     ...              ...  \n",
       "3119      3.50    2.70            13.20  \n",
       "3120      2.60    1.00             3.40  \n",
       "3121      0.60    0.60             1.40  \n",
       "3122      6.30    2.10            22.50  \n",
       "3123      1.30    1.80             4.80  \n",
       "\n",
       "[3124 rows x 9 columns]"
      ]
     },
     "execution_count": 1,
     "metadata": {},
     "output_type": "execute_result"
    }
   ],
   "source": [
    "import pandas as pd\n",
    "pd.options.display.max_rows = 10\n",
    "igralci = pd.read_csv('players.csv')\n",
    "igralci"
   ]
  },
  {
   "cell_type": "markdown",
   "metadata": {},
   "source": [
    "Razvrstimo sedaj igralce po njihovem povprečju točk na tekmo in poglejmo ali prepoznamo katerega izmed aktivnih igralcev lige NBA. Opazimo, da so čisto pri vrhu nekateri znani še aktivni igralci (LeBron James, Kevin Durant, James Harden), malo nižje pa se skriva tudi Luka Dončić."
   ]
  },
  {
   "cell_type": "code",
   "execution_count": 2,
   "metadata": {},
   "outputs": [
    {
     "data": {
      "text/html": [
       "<div>\n",
       "<style scoped>\n",
       "    .dataframe tbody tr th:only-of-type {\n",
       "        vertical-align: middle;\n",
       "    }\n",
       "\n",
       "    .dataframe tbody tr th {\n",
       "        vertical-align: top;\n",
       "    }\n",
       "\n",
       "    .dataframe thead th {\n",
       "        text-align: right;\n",
       "    }\n",
       "</style>\n",
       "<table border=\"1\" class=\"dataframe\">\n",
       "  <thead>\n",
       "    <tr style=\"text-align: right;\">\n",
       "      <th></th>\n",
       "      <th>name surname</th>\n",
       "      <th>position</th>\n",
       "      <th>points_per_game</th>\n",
       "    </tr>\n",
       "  </thead>\n",
       "  <tbody>\n",
       "    <tr>\n",
       "      <th>1785</th>\n",
       "      <td>LeBron James</td>\n",
       "      <td>SG</td>\n",
       "      <td>27.05</td>\n",
       "    </tr>\n",
       "    <tr>\n",
       "      <th>2066</th>\n",
       "      <td>Kevin Durant</td>\n",
       "      <td>SG</td>\n",
       "      <td>26.88</td>\n",
       "    </tr>\n",
       "    <tr>\n",
       "      <th>2204</th>\n",
       "      <td>James Harden</td>\n",
       "      <td>SG</td>\n",
       "      <td>25.14</td>\n",
       "    </tr>\n",
       "    <tr>\n",
       "      <th>2936</th>\n",
       "      <td>Luka Dončić</td>\n",
       "      <td>SG</td>\n",
       "      <td>25.00</td>\n",
       "    </tr>\n",
       "    <tr>\n",
       "      <th>2422</th>\n",
       "      <td>Damian Lillard</td>\n",
       "      <td>PG</td>\n",
       "      <td>24.44</td>\n",
       "    </tr>\n",
       "    <tr>\n",
       "      <th>...</th>\n",
       "      <td>...</td>\n",
       "      <td>...</td>\n",
       "      <td>...</td>\n",
       "    </tr>\n",
       "    <tr>\n",
       "      <th>1593</th>\n",
       "      <td>Andy Panko</td>\n",
       "      <td>SF</td>\n",
       "      <td>0.00</td>\n",
       "    </tr>\n",
       "    <tr>\n",
       "      <th>581</th>\n",
       "      <td>Ron Crevier</td>\n",
       "      <td>C</td>\n",
       "      <td>0.00</td>\n",
       "    </tr>\n",
       "    <tr>\n",
       "      <th>2699</th>\n",
       "      <td>Ben Bentil</td>\n",
       "      <td>PF</td>\n",
       "      <td>0.00</td>\n",
       "    </tr>\n",
       "    <tr>\n",
       "      <th>1516</th>\n",
       "      <td>Derek Hood</td>\n",
       "      <td>PF</td>\n",
       "      <td>0.00</td>\n",
       "    </tr>\n",
       "    <tr>\n",
       "      <th>1530</th>\n",
       "      <td>Jason Miskiri</td>\n",
       "      <td>PG</td>\n",
       "      <td>0.00</td>\n",
       "    </tr>\n",
       "  </tbody>\n",
       "</table>\n",
       "<p>3124 rows × 3 columns</p>\n",
       "</div>"
      ],
      "text/plain": [
       "        name surname position  points_per_game\n",
       "1785    LeBron James       SG            27.05\n",
       "2066    Kevin Durant       SG            26.88\n",
       "2204    James Harden       SG            25.14\n",
       "2936     Luka Dončić       SG            25.00\n",
       "2422  Damian Lillard       PG            24.44\n",
       "...              ...      ...              ...\n",
       "1593      Andy Panko       SF             0.00\n",
       "581      Ron Crevier        C             0.00\n",
       "2699      Ben Bentil       PF             0.00\n",
       "1516      Derek Hood       PF             0.00\n",
       "1530   Jason Miskiri       PG             0.00\n",
       "\n",
       "[3124 rows x 3 columns]"
      ]
     },
     "execution_count": 2,
     "metadata": {},
     "output_type": "execute_result"
    }
   ],
   "source": [
    "igralci_tocke = igralci.sort_values('points_per_game', ascending=False)\n",
    "igralci_tocke[[\"name surname\", \"position\", \"points_per_game\"]]"
   ]
  },
  {
   "cell_type": "markdown",
   "metadata": {},
   "source": [
    "Sedaj je smiselno igralce pogrupirati po njihovi poziciji, saj bo velik del naše raziskave/naših hipotez posvečen raziskavi povezav med pozicijo igralca in njegovo statistiko.\n",
    "To bo treba narediti ročno, saj pozicija igralca ni popolnoma fiksna (nekateri igralci (takih je sicer malo, kar je vidno iz spodnjega prikaza po številu) lahko večino časa preživijo na eni izmed pozicij, a občasno igra na drugi, sicer po vlogi podobni poziciji - tako da je korelacijo še vedno smiselno raziskovati, a je naveden v v obliki POZICIJA1-POZICIJA2). Pozicija 1 je tista, na kateri igralce preživi več časa, zato je le-to bolj smiselno vzeti kot njegovo standardno pozicijo."
   ]
  },
  {
   "cell_type": "code",
   "execution_count": 3,
   "metadata": {},
   "outputs": [
    {
     "data": {
      "text/plain": [
       "position\n",
       "C        555\n",
       "C-PF       3\n",
       "PF       640\n",
       "PF-C       4\n",
       "PF-SF      6\n",
       "        ... \n",
       "SF-PF      4\n",
       "SF-SG      3\n",
       "SG       689\n",
       "SG-PG      5\n",
       "SG-SF      3\n",
       "Length: 13, dtype: int64"
      ]
     },
     "execution_count": 3,
     "metadata": {},
     "output_type": "execute_result"
    }
   ],
   "source": [
    "position_group = igralci.groupby(\"position\")\n",
    "position_group.size()"
   ]
  },
  {
   "cell_type": "code",
   "execution_count": 4,
   "metadata": {},
   "outputs": [],
   "source": [
    "cisti_centri = position_group.get_group(\"C\")\n",
    "prehodni_centri = position_group.get_group(\"C-PF\")"
   ]
  },
  {
   "cell_type": "code",
   "execution_count": 5,
   "metadata": {},
   "outputs": [
    {
     "data": {
      "text/html": [
       "<div>\n",
       "<style scoped>\n",
       "    .dataframe tbody tr th:only-of-type {\n",
       "        vertical-align: middle;\n",
       "    }\n",
       "\n",
       "    .dataframe tbody tr th {\n",
       "        vertical-align: top;\n",
       "    }\n",
       "\n",
       "    .dataframe thead th {\n",
       "        text-align: right;\n",
       "    }\n",
       "</style>\n",
       "<table border=\"1\" class=\"dataframe\">\n",
       "  <thead>\n",
       "    <tr style=\"text-align: right;\">\n",
       "      <th></th>\n",
       "      <th>name surname</th>\n",
       "      <th>position</th>\n",
       "      <th>fg_pct</th>\n",
       "      <th>fg3_pct</th>\n",
       "      <th>fg2_pct</th>\n",
       "      <th>ft_pct</th>\n",
       "      <th>rebounds</th>\n",
       "      <th>asists</th>\n",
       "      <th>points_per_game</th>\n",
       "    </tr>\n",
       "  </thead>\n",
       "  <tbody>\n",
       "    <tr>\n",
       "      <th>418</th>\n",
       "      <td>Scott Hastings</td>\n",
       "      <td>C-PF</td>\n",
       "      <td>0.41</td>\n",
       "      <td>0.24</td>\n",
       "      <td>0.43</td>\n",
       "      <td>0.78</td>\n",
       "      <td>1.93</td>\n",
       "      <td>0.39</td>\n",
       "      <td>2.35</td>\n",
       "    </tr>\n",
       "    <tr>\n",
       "      <th>1880</th>\n",
       "      <td>Jackson Vroman</td>\n",
       "      <td>C-PF</td>\n",
       "      <td>0.40</td>\n",
       "      <td>0.00</td>\n",
       "      <td>0.40</td>\n",
       "      <td>0.58</td>\n",
       "      <td>2.92</td>\n",
       "      <td>0.70</td>\n",
       "      <td>3.35</td>\n",
       "    </tr>\n",
       "    <tr>\n",
       "      <th>3045</th>\n",
       "      <td>Donta Hall</td>\n",
       "      <td>C-PF</td>\n",
       "      <td>0.57</td>\n",
       "      <td>0.00</td>\n",
       "      <td>0.57</td>\n",
       "      <td>0.53</td>\n",
       "      <td>4.20</td>\n",
       "      <td>0.43</td>\n",
       "      <td>4.13</td>\n",
       "    </tr>\n",
       "    <tr>\n",
       "      <th>1</th>\n",
       "      <td>Alvan Adams</td>\n",
       "      <td>C</td>\n",
       "      <td>0.50</td>\n",
       "      <td>0.09</td>\n",
       "      <td>0.50</td>\n",
       "      <td>0.81</td>\n",
       "      <td>6.22</td>\n",
       "      <td>3.86</td>\n",
       "      <td>12.53</td>\n",
       "    </tr>\n",
       "    <tr>\n",
       "      <th>2</th>\n",
       "      <td>Dennis Awtrey</td>\n",
       "      <td>C</td>\n",
       "      <td>0.42</td>\n",
       "      <td>0.00</td>\n",
       "      <td>0.42</td>\n",
       "      <td>0.63</td>\n",
       "      <td>2.70</td>\n",
       "      <td>1.13</td>\n",
       "      <td>2.33</td>\n",
       "    </tr>\n",
       "  </tbody>\n",
       "</table>\n",
       "</div>"
      ],
      "text/plain": [
       "        name surname position  fg_pct  fg3_pct  fg2_pct  ft_pct  rebounds  \\\n",
       "418   Scott Hastings     C-PF    0.41     0.24     0.43    0.78      1.93   \n",
       "1880  Jackson Vroman     C-PF    0.40     0.00     0.40    0.58      2.92   \n",
       "3045      Donta Hall     C-PF    0.57     0.00     0.57    0.53      4.20   \n",
       "1        Alvan Adams        C    0.50     0.09     0.50    0.81      6.22   \n",
       "2      Dennis Awtrey        C    0.42     0.00     0.42    0.63      2.70   \n",
       "\n",
       "      asists  points_per_game  \n",
       "418     0.39             2.35  \n",
       "1880    0.70             3.35  \n",
       "3045    0.43             4.13  \n",
       "1       3.86            12.53  \n",
       "2       1.13             2.33  "
      ]
     },
     "execution_count": 5,
     "metadata": {},
     "output_type": "execute_result"
    }
   ],
   "source": [
    "centri = pd.concat([prehodni_centri, cisti_centri])\n",
    "centri.head(5)"
   ]
  },
  {
   "cell_type": "code",
   "execution_count": 6,
   "metadata": {},
   "outputs": [],
   "source": [
    "cisti_pf = position_group.get_group(\"PF\")\n",
    "prehodni_pf_1 = position_group.get_group(\"PF-C\")\n",
    "prehodni_pf_2 = position_group.get_group(\"PF-SF\")"
   ]
  },
  {
   "cell_type": "code",
   "execution_count": 7,
   "metadata": {},
   "outputs": [
    {
     "data": {
      "text/html": [
       "<div>\n",
       "<style scoped>\n",
       "    .dataframe tbody tr th:only-of-type {\n",
       "        vertical-align: middle;\n",
       "    }\n",
       "\n",
       "    .dataframe tbody tr th {\n",
       "        vertical-align: top;\n",
       "    }\n",
       "\n",
       "    .dataframe thead th {\n",
       "        text-align: right;\n",
       "    }\n",
       "</style>\n",
       "<table border=\"1\" class=\"dataframe\">\n",
       "  <thead>\n",
       "    <tr style=\"text-align: right;\">\n",
       "      <th></th>\n",
       "      <th>name surname</th>\n",
       "      <th>position</th>\n",
       "      <th>fg_pct</th>\n",
       "      <th>fg3_pct</th>\n",
       "      <th>fg2_pct</th>\n",
       "      <th>ft_pct</th>\n",
       "      <th>rebounds</th>\n",
       "      <th>asists</th>\n",
       "      <th>points_per_game</th>\n",
       "    </tr>\n",
       "  </thead>\n",
       "  <tbody>\n",
       "    <tr>\n",
       "      <th>0</th>\n",
       "      <td>Tom Abernethy</td>\n",
       "      <td>PF</td>\n",
       "      <td>0.42</td>\n",
       "      <td>0.00</td>\n",
       "      <td>0.42</td>\n",
       "      <td>0.63</td>\n",
       "      <td>1.57</td>\n",
       "      <td>0.62</td>\n",
       "      <td>2.35</td>\n",
       "    </tr>\n",
       "    <tr>\n",
       "      <th>4</th>\n",
       "      <td>James Bailey</td>\n",
       "      <td>PF</td>\n",
       "      <td>0.48</td>\n",
       "      <td>0.04</td>\n",
       "      <td>0.48</td>\n",
       "      <td>0.70</td>\n",
       "      <td>4.78</td>\n",
       "      <td>0.80</td>\n",
       "      <td>8.56</td>\n",
       "    </tr>\n",
       "    <tr>\n",
       "      <th>7</th>\n",
       "      <td>Marvin Barnes</td>\n",
       "      <td>PF</td>\n",
       "      <td>0.40</td>\n",
       "      <td>0.00</td>\n",
       "      <td>0.40</td>\n",
       "      <td>0.50</td>\n",
       "      <td>3.90</td>\n",
       "      <td>0.90</td>\n",
       "      <td>3.20</td>\n",
       "    </tr>\n",
       "    <tr>\n",
       "      <th>8</th>\n",
       "      <td>Tim Bassett</td>\n",
       "      <td>PF</td>\n",
       "      <td>0.35</td>\n",
       "      <td>0.00</td>\n",
       "      <td>0.35</td>\n",
       "      <td>0.67</td>\n",
       "      <td>2.80</td>\n",
       "      <td>1.27</td>\n",
       "      <td>2.73</td>\n",
       "    </tr>\n",
       "    <tr>\n",
       "      <th>10</th>\n",
       "      <td>Ron Behagen</td>\n",
       "      <td>PF</td>\n",
       "      <td>0.39</td>\n",
       "      <td>0.00</td>\n",
       "      <td>0.39</td>\n",
       "      <td>0.83</td>\n",
       "      <td>2.30</td>\n",
       "      <td>1.20</td>\n",
       "      <td>3.80</td>\n",
       "    </tr>\n",
       "  </tbody>\n",
       "</table>\n",
       "</div>"
      ],
      "text/plain": [
       "     name surname position  fg_pct  fg3_pct  fg2_pct  ft_pct  rebounds  \\\n",
       "0   Tom Abernethy       PF    0.42     0.00     0.42    0.63      1.57   \n",
       "4    James Bailey       PF    0.48     0.04     0.48    0.70      4.78   \n",
       "7   Marvin Barnes       PF    0.40     0.00     0.40    0.50      3.90   \n",
       "8     Tim Bassett       PF    0.35     0.00     0.35    0.67      2.80   \n",
       "10    Ron Behagen       PF    0.39     0.00     0.39    0.83      2.30   \n",
       "\n",
       "    asists  points_per_game  \n",
       "0     0.62             2.35  \n",
       "4     0.80             8.56  \n",
       "7     0.90             3.20  \n",
       "8     1.27             2.73  \n",
       "10    1.20             3.80  "
      ]
     },
     "execution_count": 7,
     "metadata": {},
     "output_type": "execute_result"
    }
   ],
   "source": [
    "pf = pd.concat([cisti_pf, prehodni_pf_1, prehodni_pf_2])\n",
    "pf.head(5)"
   ]
  },
  {
   "cell_type": "code",
   "execution_count": 8,
   "metadata": {},
   "outputs": [],
   "source": [
    "cisti_sf = position_group.get_group(\"SF\")\n",
    "prehodni_sf_1 = position_group.get_group(\"SF-PF\")\n",
    "prehodni_sf_2 = position_group.get_group(\"SF-SG\")"
   ]
  },
  {
   "cell_type": "code",
   "execution_count": 9,
   "metadata": {},
   "outputs": [
    {
     "data": {
      "text/html": [
       "<div>\n",
       "<style scoped>\n",
       "    .dataframe tbody tr th:only-of-type {\n",
       "        vertical-align: middle;\n",
       "    }\n",
       "\n",
       "    .dataframe tbody tr th {\n",
       "        vertical-align: top;\n",
       "    }\n",
       "\n",
       "    .dataframe thead th {\n",
       "        text-align: right;\n",
       "    }\n",
       "</style>\n",
       "<table border=\"1\" class=\"dataframe\">\n",
       "  <thead>\n",
       "    <tr style=\"text-align: right;\">\n",
       "      <th></th>\n",
       "      <th>name surname</th>\n",
       "      <th>position</th>\n",
       "      <th>fg_pct</th>\n",
       "      <th>fg3_pct</th>\n",
       "      <th>fg2_pct</th>\n",
       "      <th>ft_pct</th>\n",
       "      <th>rebounds</th>\n",
       "      <th>asists</th>\n",
       "      <th>points_per_game</th>\n",
       "    </tr>\n",
       "  </thead>\n",
       "  <tbody>\n",
       "    <tr>\n",
       "      <th>5</th>\n",
       "      <td>Greg Ballard</td>\n",
       "      <td>SF</td>\n",
       "      <td>0.43</td>\n",
       "      <td>0.29</td>\n",
       "      <td>0.44</td>\n",
       "      <td>0.82</td>\n",
       "      <td>6.12</td>\n",
       "      <td>2.14</td>\n",
       "      <td>12.71</td>\n",
       "    </tr>\n",
       "    <tr>\n",
       "      <th>6</th>\n",
       "      <td>Mike Bantom</td>\n",
       "      <td>SF</td>\n",
       "      <td>0.48</td>\n",
       "      <td>0.27</td>\n",
       "      <td>0.48</td>\n",
       "      <td>0.65</td>\n",
       "      <td>5.54</td>\n",
       "      <td>2.20</td>\n",
       "      <td>11.30</td>\n",
       "    </tr>\n",
       "    <tr>\n",
       "      <th>19</th>\n",
       "      <td>Alonzo Bradley</td>\n",
       "      <td>SF</td>\n",
       "      <td>0.35</td>\n",
       "      <td>1.00</td>\n",
       "      <td>0.34</td>\n",
       "      <td>0.67</td>\n",
       "      <td>0.30</td>\n",
       "      <td>0.10</td>\n",
       "      <td>1.90</td>\n",
       "    </tr>\n",
       "    <tr>\n",
       "      <th>24</th>\n",
       "      <td>Junior Bridgeman</td>\n",
       "      <td>SF</td>\n",
       "      <td>0.47</td>\n",
       "      <td>0.24</td>\n",
       "      <td>0.48</td>\n",
       "      <td>0.85</td>\n",
       "      <td>3.08</td>\n",
       "      <td>2.49</td>\n",
       "      <td>13.03</td>\n",
       "    </tr>\n",
       "    <tr>\n",
       "      <th>25</th>\n",
       "      <td>Allan Bristow</td>\n",
       "      <td>SF</td>\n",
       "      <td>0.45</td>\n",
       "      <td>0.30</td>\n",
       "      <td>0.46</td>\n",
       "      <td>0.80</td>\n",
       "      <td>4.28</td>\n",
       "      <td>4.08</td>\n",
       "      <td>7.52</td>\n",
       "    </tr>\n",
       "  </tbody>\n",
       "</table>\n",
       "</div>"
      ],
      "text/plain": [
       "        name surname position  fg_pct  fg3_pct  fg2_pct  ft_pct  rebounds  \\\n",
       "5       Greg Ballard       SF    0.43     0.29     0.44    0.82      6.12   \n",
       "6        Mike Bantom       SF    0.48     0.27     0.48    0.65      5.54   \n",
       "19    Alonzo Bradley       SF    0.35     1.00     0.34    0.67      0.30   \n",
       "24  Junior Bridgeman       SF    0.47     0.24     0.48    0.85      3.08   \n",
       "25     Allan Bristow       SF    0.45     0.30     0.46    0.80      4.28   \n",
       "\n",
       "    asists  points_per_game  \n",
       "5     2.14            12.71  \n",
       "6     2.20            11.30  \n",
       "19    0.10             1.90  \n",
       "24    2.49            13.03  \n",
       "25    4.08             7.52  "
      ]
     },
     "execution_count": 9,
     "metadata": {},
     "output_type": "execute_result"
    }
   ],
   "source": [
    "sf = pd.concat([cisti_sf, prehodni_sf_1, prehodni_sf_2])\n",
    "sf.head(5)"
   ]
  },
  {
   "cell_type": "code",
   "execution_count": 10,
   "metadata": {},
   "outputs": [],
   "source": [
    "cisti_sg = position_group.get_group(\"SG\")\n",
    "prehodni_sg_1 = position_group.get_group(\"SG-SF\")\n",
    "prehodni_sg_2 = position_group.get_group(\"SG-PG\")"
   ]
  },
  {
   "cell_type": "code",
   "execution_count": 11,
   "metadata": {},
   "outputs": [
    {
     "data": {
      "text/html": [
       "<div>\n",
       "<style scoped>\n",
       "    .dataframe tbody tr th:only-of-type {\n",
       "        vertical-align: middle;\n",
       "    }\n",
       "\n",
       "    .dataframe tbody tr th {\n",
       "        vertical-align: top;\n",
       "    }\n",
       "\n",
       "    .dataframe thead th {\n",
       "        text-align: right;\n",
       "    }\n",
       "</style>\n",
       "<table border=\"1\" class=\"dataframe\">\n",
       "  <thead>\n",
       "    <tr style=\"text-align: right;\">\n",
       "      <th></th>\n",
       "      <th>name surname</th>\n",
       "      <th>position</th>\n",
       "      <th>fg_pct</th>\n",
       "      <th>fg3_pct</th>\n",
       "      <th>fg2_pct</th>\n",
       "      <th>ft_pct</th>\n",
       "      <th>rebounds</th>\n",
       "      <th>asists</th>\n",
       "      <th>points_per_game</th>\n",
       "    </tr>\n",
       "  </thead>\n",
       "  <tbody>\n",
       "    <tr>\n",
       "      <th>3</th>\n",
       "      <td>Gus Bailey</td>\n",
       "      <td>SG</td>\n",
       "      <td>0.46</td>\n",
       "      <td>1.00</td>\n",
       "      <td>0.44</td>\n",
       "      <td>0.39</td>\n",
       "      <td>1.40</td>\n",
       "      <td>1.30</td>\n",
       "      <td>1.90</td>\n",
       "    </tr>\n",
       "    <tr>\n",
       "      <th>9</th>\n",
       "      <td>Billy Ray Bates</td>\n",
       "      <td>SG</td>\n",
       "      <td>0.39</td>\n",
       "      <td>0.30</td>\n",
       "      <td>0.40</td>\n",
       "      <td>0.64</td>\n",
       "      <td>1.28</td>\n",
       "      <td>1.25</td>\n",
       "      <td>8.65</td>\n",
       "    </tr>\n",
       "    <tr>\n",
       "      <th>14</th>\n",
       "      <td>Otis Birdsong</td>\n",
       "      <td>SG</td>\n",
       "      <td>0.50</td>\n",
       "      <td>0.24</td>\n",
       "      <td>0.50</td>\n",
       "      <td>0.55</td>\n",
       "      <td>2.48</td>\n",
       "      <td>3.09</td>\n",
       "      <td>15.28</td>\n",
       "    </tr>\n",
       "    <tr>\n",
       "      <th>15</th>\n",
       "      <td>Ron Boone</td>\n",
       "      <td>SG</td>\n",
       "      <td>0.42</td>\n",
       "      <td>0.26</td>\n",
       "      <td>0.42</td>\n",
       "      <td>0.86</td>\n",
       "      <td>2.27</td>\n",
       "      <td>3.02</td>\n",
       "      <td>9.70</td>\n",
       "    </tr>\n",
       "    <tr>\n",
       "      <th>18</th>\n",
       "      <td>Winford Boynes</td>\n",
       "      <td>SG</td>\n",
       "      <td>0.43</td>\n",
       "      <td>0.00</td>\n",
       "      <td>0.43</td>\n",
       "      <td>0.79</td>\n",
       "      <td>1.90</td>\n",
       "      <td>1.15</td>\n",
       "      <td>7.50</td>\n",
       "    </tr>\n",
       "  </tbody>\n",
       "</table>\n",
       "</div>"
      ],
      "text/plain": [
       "       name surname position  fg_pct  fg3_pct  fg2_pct  ft_pct  rebounds  \\\n",
       "3        Gus Bailey       SG    0.46     1.00     0.44    0.39      1.40   \n",
       "9   Billy Ray Bates       SG    0.39     0.30     0.40    0.64      1.28   \n",
       "14    Otis Birdsong       SG    0.50     0.24     0.50    0.55      2.48   \n",
       "15        Ron Boone       SG    0.42     0.26     0.42    0.86      2.27   \n",
       "18   Winford Boynes       SG    0.43     0.00     0.43    0.79      1.90   \n",
       "\n",
       "    asists  points_per_game  \n",
       "3     1.30             1.90  \n",
       "9     1.25             8.65  \n",
       "14    3.09            15.28  \n",
       "15    3.02             9.70  \n",
       "18    1.15             7.50  "
      ]
     },
     "execution_count": 11,
     "metadata": {},
     "output_type": "execute_result"
    }
   ],
   "source": [
    "sg = pd.concat([cisti_sg, prehodni_sg_1, prehodni_sg_2])\n",
    "sg.head(5)"
   ]
  },
  {
   "cell_type": "code",
   "execution_count": 12,
   "metadata": {},
   "outputs": [],
   "source": [
    "cisti_pg = position_group.get_group(\"PG\")\n",
    "prehodni_pg = position_group.get_group(\"PG-SG\")"
   ]
  },
  {
   "cell_type": "code",
   "execution_count": 13,
   "metadata": {},
   "outputs": [
    {
     "data": {
      "text/html": [
       "<div>\n",
       "<style scoped>\n",
       "    .dataframe tbody tr th:only-of-type {\n",
       "        vertical-align: middle;\n",
       "    }\n",
       "\n",
       "    .dataframe tbody tr th {\n",
       "        vertical-align: top;\n",
       "    }\n",
       "\n",
       "    .dataframe thead th {\n",
       "        text-align: right;\n",
       "    }\n",
       "</style>\n",
       "<table border=\"1\" class=\"dataframe\">\n",
       "  <thead>\n",
       "    <tr style=\"text-align: right;\">\n",
       "      <th></th>\n",
       "      <th>name surname</th>\n",
       "      <th>position</th>\n",
       "      <th>fg_pct</th>\n",
       "      <th>fg3_pct</th>\n",
       "      <th>fg2_pct</th>\n",
       "      <th>ft_pct</th>\n",
       "      <th>rebounds</th>\n",
       "      <th>asists</th>\n",
       "      <th>points_per_game</th>\n",
       "    </tr>\n",
       "  </thead>\n",
       "  <tbody>\n",
       "    <tr>\n",
       "      <th>12</th>\n",
       "      <td>Del Beshore</td>\n",
       "      <td>PG</td>\n",
       "      <td>0.35</td>\n",
       "      <td>0.39</td>\n",
       "      <td>0.35</td>\n",
       "      <td>0.67</td>\n",
       "      <td>0.90</td>\n",
       "      <td>2.00</td>\n",
       "      <td>3.60</td>\n",
       "    </tr>\n",
       "    <tr>\n",
       "      <th>13</th>\n",
       "      <td>Henry Bibby</td>\n",
       "      <td>PG</td>\n",
       "      <td>0.39</td>\n",
       "      <td>0.27</td>\n",
       "      <td>0.41</td>\n",
       "      <td>0.74</td>\n",
       "      <td>1.75</td>\n",
       "      <td>3.20</td>\n",
       "      <td>6.80</td>\n",
       "    </tr>\n",
       "    <tr>\n",
       "      <th>21</th>\n",
       "      <td>Mike Bratz</td>\n",
       "      <td>PG</td>\n",
       "      <td>0.39</td>\n",
       "      <td>0.26</td>\n",
       "      <td>0.41</td>\n",
       "      <td>0.82</td>\n",
       "      <td>1.60</td>\n",
       "      <td>3.11</td>\n",
       "      <td>6.11</td>\n",
       "    </tr>\n",
       "    <tr>\n",
       "      <th>30</th>\n",
       "      <td>Quinn Buckner</td>\n",
       "      <td>PG</td>\n",
       "      <td>0.45</td>\n",
       "      <td>0.12</td>\n",
       "      <td>0.46</td>\n",
       "      <td>0.68</td>\n",
       "      <td>2.56</td>\n",
       "      <td>3.76</td>\n",
       "      <td>7.86</td>\n",
       "    </tr>\n",
       "    <tr>\n",
       "      <th>32</th>\n",
       "      <td>Don Buse</td>\n",
       "      <td>PG</td>\n",
       "      <td>0.42</td>\n",
       "      <td>0.31</td>\n",
       "      <td>0.45</td>\n",
       "      <td>0.78</td>\n",
       "      <td>1.78</td>\n",
       "      <td>3.55</td>\n",
       "      <td>5.93</td>\n",
       "    </tr>\n",
       "  </tbody>\n",
       "</table>\n",
       "</div>"
      ],
      "text/plain": [
       "     name surname position  fg_pct  fg3_pct  fg2_pct  ft_pct  rebounds  \\\n",
       "12    Del Beshore       PG    0.35     0.39     0.35    0.67      0.90   \n",
       "13    Henry Bibby       PG    0.39     0.27     0.41    0.74      1.75   \n",
       "21     Mike Bratz       PG    0.39     0.26     0.41    0.82      1.60   \n",
       "30  Quinn Buckner       PG    0.45     0.12     0.46    0.68      2.56   \n",
       "32       Don Buse       PG    0.42     0.31     0.45    0.78      1.78   \n",
       "\n",
       "    asists  points_per_game  \n",
       "12    2.00             3.60  \n",
       "13    3.20             6.80  \n",
       "21    3.11             6.11  \n",
       "30    3.76             7.86  \n",
       "32    3.55             5.93  "
      ]
     },
     "execution_count": 13,
     "metadata": {},
     "output_type": "execute_result"
    }
   ],
   "source": [
    "pg = pd.concat([cisti_pg, prehodni_pg])\n",
    "pg.head(5)"
   ]
  },
  {
   "cell_type": "markdown",
   "metadata": {},
   "source": [
    "## HIPOTEZA 1\n",
    ">_\"Vsaka pozicija je v ligi številčno enakomerno zastopana (igralcev posamezne pozicije je okvirno enako).\"_\n",
    "\n",
    "Sedaj imamo podatke smiselno pogrupirane, zato lahko pogledamo, kako je po procentih vsaka izmed pozicij zastopana. Po hipotezi 1 pričakujemo enakomerno razporeditev (okviren 20%-20%-20%-20%-20%). \n",
    "Ko \"narišemo\" tortni diagram, opazimo da je temu res tako. Nekoliko je \"na račun\" igralcev pozicije center več le igralcev pozicije SG, a je graf vseeno dokaj enakomerno razporejen, zato lahko potrdimo hipotezo 1.\n",
    "(Le to je tudi smiselno, če poznamo dejstvo, da imamo 5 pozicij, v igri pa je naenkrat po 1 igralec vsake pozicije)"
   ]
  },
  {
   "cell_type": "code",
   "execution_count": 14,
   "metadata": {},
   "outputs": [
    {
     "data": {
      "image/png": "[encoded data removed]",
      "text/plain": [
       "<Figure size 432x288 with 1 Axes>"
      ]
     },
     "metadata": {},
     "output_type": "display_data"
    }
   ],
   "source": [
    "import matplotlib.pyplot as plt\n",
    "all_players = len(pg) + len(sg) + len(sf) + len(pf) + len(centri)\n",
    "labels = 'C', 'PF', 'SF', 'SG', 'PG'\n",
    "sizes = [\n",
    "        len(centri) / all_players, \n",
    "        len(pf) / all_players,\n",
    "        len(sf) / all_players,\n",
    "        len(sg) / all_players,\n",
    "        len(pg) / all_players,\n",
    "        ]\n",
    "fig1, ax1 = plt.subplots()\n",
    "ax1.pie(\n",
    "        sizes, \n",
    "        explode= (0.1, 0.1, 0.1, 0.1, 0.1), \n",
    "        labels=labels, \n",
    "        autopct='%1.1f%%',\n",
    "        shadow=True, \n",
    "        startangle=0\n",
    "        )\n",
    "ax1.axis('equal')\n",
    "plt.title('PROCENT IGRALCEV POSAMEZNE POZICIJE')\n",
    "plt.show()"
   ]
  },
  {
   "cell_type": "markdown",
   "metadata": {},
   "source": [
    "### POSTOPEK PREVERJANJA HIPOTEZ 2, 3, 4 in 5\n",
    "\n",
    "Hipoteze 2, 3, 4, 5 so postavljene glede na povprečje pozicije igralca (tu imena ne bodo pomebna, statistika igralca pa le za izračun povprečja). Zato je smiselno poračunati povprečje po že ločenih pozicijah, ter nato definirati novo tabelo, v kateri bodo dostopni le za te hipoteze pomembni podatki (predstavitev bo potekala po pozicijah)."
   ]
  },
  {
   "cell_type": "code",
   "execution_count": 15,
   "metadata": {},
   "outputs": [],
   "source": [
    "pg_mean = pg[[\"fg_pct\",\"fg3_pct\",\"fg2_pct\",\"ft_pct\", \"rebounds\", \"asists\", \"points_per_game\"]].mean()\n",
    "sg_mean = sg[[\"fg_pct\",\"fg3_pct\",\"fg2_pct\",\"ft_pct\", \"rebounds\", \"asists\", \"points_per_game\"]].mean()\n",
    "sf_mean = sf[[\"fg_pct\",\"fg3_pct\",\"fg2_pct\",\"ft_pct\", \"rebounds\", \"asists\", \"points_per_game\"]].mean()\n",
    "pf_mean = pf[[\"fg_pct\",\"fg3_pct\",\"fg2_pct\",\"ft_pct\", \"rebounds\", \"asists\", \"points_per_game\"]].mean()\n",
    "centri_mean = centri[[\"fg_pct\",\"fg3_pct\",\"fg2_pct\",\"ft_pct\", \"rebounds\", \"asists\", \"points_per_game\"]].mean()\n"
   ]
  },
  {
   "cell_type": "code",
   "execution_count": 16,
   "metadata": {},
   "outputs": [
    {
     "data": {
      "text/html": [
       "<div>\n",
       "<style scoped>\n",
       "    .dataframe tbody tr th:only-of-type {\n",
       "        vertical-align: middle;\n",
       "    }\n",
       "\n",
       "    .dataframe tbody tr th {\n",
       "        vertical-align: top;\n",
       "    }\n",
       "\n",
       "    .dataframe thead th {\n",
       "        text-align: right;\n",
       "    }\n",
       "</style>\n",
       "<table border=\"1\" class=\"dataframe\">\n",
       "  <thead>\n",
       "    <tr style=\"text-align: right;\">\n",
       "      <th></th>\n",
       "      <th>fg_pct</th>\n",
       "      <th>fg3_pct</th>\n",
       "      <th>fg2_pct</th>\n",
       "      <th>ft_pct</th>\n",
       "      <th>rebounds</th>\n",
       "      <th>asists</th>\n",
       "      <th>points_per_game</th>\n",
       "    </tr>\n",
       "  </thead>\n",
       "  <tbody>\n",
       "    <tr>\n",
       "      <th>PG</th>\n",
       "      <td>39.39%</td>\n",
       "      <td>25.78%</td>\n",
       "      <td>42.22%</td>\n",
       "      <td>69.12%</td>\n",
       "      <td>1.66</td>\n",
       "      <td>2.70</td>\n",
       "      <td>6.24</td>\n",
       "    </tr>\n",
       "    <tr>\n",
       "      <th>SG</th>\n",
       "      <td>38.84%</td>\n",
       "      <td>24.76%</td>\n",
       "      <td>42.09%</td>\n",
       "      <td>65.85%</td>\n",
       "      <td>1.80</td>\n",
       "      <td>1.41</td>\n",
       "      <td>5.97</td>\n",
       "    </tr>\n",
       "    <tr>\n",
       "      <th>SF</th>\n",
       "      <td>41.00%</td>\n",
       "      <td>21.37%</td>\n",
       "      <td>43.66%</td>\n",
       "      <td>64.18%</td>\n",
       "      <td>2.57</td>\n",
       "      <td>1.05</td>\n",
       "      <td>6.02</td>\n",
       "    </tr>\n",
       "    <tr>\n",
       "      <th>PF</th>\n",
       "      <td>43.49%</td>\n",
       "      <td>13.60%</td>\n",
       "      <td>45.41%</td>\n",
       "      <td>60.93%</td>\n",
       "      <td>3.49</td>\n",
       "      <td>0.76</td>\n",
       "      <td>5.54</td>\n",
       "    </tr>\n",
       "    <tr>\n",
       "      <th>C</th>\n",
       "      <td>44.77%</td>\n",
       "      <td>7.04%</td>\n",
       "      <td>45.54%</td>\n",
       "      <td>56.92%</td>\n",
       "      <td>3.46</td>\n",
       "      <td>0.64</td>\n",
       "      <td>4.63</td>\n",
       "    </tr>\n",
       "  </tbody>\n",
       "</table>\n",
       "</div>"
      ],
      "text/plain": [
       "    fg_pct fg3_pct fg2_pct  ft_pct  rebounds  asists  points_per_game\n",
       "PG  39.39%  25.78%  42.22%  69.12%      1.66    2.70             6.24\n",
       "SG  38.84%  24.76%  42.09%  65.85%      1.80    1.41             5.97\n",
       "SF  41.00%  21.37%  43.66%  64.18%      2.57    1.05             6.02\n",
       "PF  43.49%  13.60%  45.41%  60.93%      3.49    0.76             5.54\n",
       "C   44.77%   7.04%  45.54%  56.92%      3.46    0.64             4.63"
      ]
     },
     "execution_count": 16,
     "metadata": {},
     "output_type": "execute_result"
    }
   ],
   "source": [
    "data = {\n",
    "\t'fg_pct': [\n",
    "\t\t\"{:.2%}\".format(round(pg_mean.fg_pct, 4)), \n",
    "\t\t\"{:.2%}\".format(round(sg_mean.fg_pct, 4)), \n",
    "\t\t\"{:.2%}\".format(round(sf_mean.fg_pct, 4)), \n",
    "\t\t\"{:.2%}\".format(round(pf_mean.fg_pct, 4)), \n",
    "\t\t\"{:.2%}\".format(round(centri_mean.fg_pct, 4))\n",
    "\t],\n",
    "\t'fg3_pct': [\n",
    "\t\t\"{:.2%}\".format(round(pg_mean.fg3_pct, 4)), \n",
    "\t\t\"{:.2%}\".format(round(sg_mean.fg3_pct, 4)), \n",
    "\t\t\"{:.2%}\".format(round(sf_mean.fg3_pct, 4)), \n",
    "\t\t\"{:.2%}\".format(round(pf_mean.fg3_pct, 4)), \n",
    "\t\t\"{:.2%}\".format(round(centri_mean.fg3_pct, 4))\n",
    "\t],\n",
    "\t'fg2_pct': [\n",
    "\t\t\"{:.2%}\".format(round(pg_mean.fg2_pct, 4)), \n",
    "\t\t\"{:.2%}\".format(round(sg_mean.fg2_pct, 4)), \n",
    "\t\t\"{:.2%}\".format(round(sf_mean.fg2_pct, 4)), \n",
    "\t\t\"{:.2%}\".format(round(pf_mean.fg2_pct, 4)), \n",
    "\t\t\"{:.2%}\".format(round(centri_mean.fg2_pct, 4))\n",
    "\t],\n",
    "\t'ft_pct': [\n",
    "\t\t\"{:.2%}\".format(round(pg_mean.ft_pct, 4)), \n",
    "\t\t\"{:.2%}\".format(round(sg_mean.ft_pct, 4)), \n",
    "\t\t\"{:.2%}\".format(round(sf_mean.ft_pct, 4)), \n",
    "\t\t\"{:.2%}\".format(round(pf_mean.ft_pct, 4)), \n",
    "\t\t\"{:.2%}\".format(round(centri_mean.ft_pct, 4))\n",
    "\t],\n",
    "\t'rebounds': [\n",
    "\t\tround(pg_mean.rebounds, 2), \n",
    "\t\tround(sg_mean.rebounds, 2), \n",
    "\t\tround(sf_mean.rebounds, 2), \n",
    "\t\tround(pf_mean.rebounds, 2), \n",
    "\t\tround(centri_mean.rebounds, 2)\n",
    "\t],\n",
    "\t'asists': [\n",
    "\t\tround(pg_mean.asists, 2), \n",
    "\t\tround(sg_mean.asists, 2),  \n",
    "\t\tround(sf_mean.asists, 2),  \n",
    "\t\tround(pf_mean.asists, 2),  \n",
    "\t\tround(centri_mean.asists, 2)\n",
    "\t],\n",
    "\t'points_per_game': [\n",
    "\t\tround(pg_mean.points_per_game, 2), \n",
    "\t\tround(sg_mean.points_per_game, 2), \n",
    "\t\tround(sf_mean.points_per_game, 2), \n",
    "\t\tround(pf_mean.points_per_game, 2), \n",
    "\t\tround(centri_mean.points_per_game, 2)\n",
    "\t]\n",
    "}\n",
    "table_position = pd.DataFrame(data, index = ['PG', 'SG', 'SF', 'PF', 'C'])\n",
    "table_position\n"
   ]
  },
  {
   "cell_type": "markdown",
   "metadata": {},
   "source": [
    "## HIPOTEZA 2\n",
    ">_\"Igralci pozicij G (guards) dosežejo povprečno več točk na tekmo kot igralci pozicij F (forwards) in igralci pozicije C (center).\"_\n",
    "\n",
    "Želimo preveriti ali obstaja korelacija med pozicijo in številom točk, ki jih povprečno igralec tiste pozicije doseže. V hipotezi trdimo, da največ točk dosežejo igralci pozicije guard (G).<br>\n",
    "Na podlagi spodnjega grafa opazimo, da v igralci pozicije guard (PG  in SG) v povprečejo res dosežejo več točk kot igralci pozicije forward (SF in PF) in tudi pozicije center (C), zato hipotezo potrdimo, a so rezultati presenetljivo blizu. Igralci pozicije SF (pripadajo skupini forward) celo povprečno dosežejo nekoliko več točk kot igralci skupine SG (pripadajo skupini guard)."
   ]
  },
  {
   "cell_type": "code",
   "execution_count": 17,
   "metadata": {},
   "outputs": [
    {
     "data": {
      "text/plain": [
       "<AxesSubplot:title={'center':'POVPREČEN IZKUPIČEK TOČK PO POZICIJAH'}>"
      ]
     },
     "execution_count": 17,
     "metadata": {},
     "output_type": "execute_result"
    },
    {
     "data": {
      "image/png": "[encoded data removed]",
      "text/plain": [
       "<Figure size 504x360 with 1 Axes>"
      ]
     },
     "metadata": {
      "needs_background": "light"
     },
     "output_type": "display_data"
    }
   ],
   "source": [
    "color = [\n",
    "    \"purple\" if graph == max(table_position['points_per_game'])\n",
    "    else \"pink\" \n",
    "    for graph in table_position['points_per_game']\n",
    "    ]\n",
    "table_position.plot.bar(\n",
    "    y='points_per_game', \n",
    "    rot=0, \n",
    "    color = color,\n",
    "    figsize = (7,5),\n",
    "    title = \"POVPREČEN IZKUPIČEK TOČK PO POZICIJAH\"\n",
    ")"
   ]
  },
  {
   "cell_type": "markdown",
   "metadata": {},
   "source": [
    "## HIPOTEZA 3\n",
    ">_\"Igralci pozicij G (guards) dosežejo povprečno več asistenc na tekmo kot igralci pozicij F (forwards) in igralci pozicije C (center) skupaj.\"_\n",
    "\n",
    "Pogledati želimo ali prevladujočo količino asistenc res zabeležijo igralci pozicije PG in SG, kot to trdimo v hipotezi. Zbrane podatke predstavimo z tortnim diagramom (spodaj) in opazimo, da prevladujoč delež asistenc zabeležijo igralci pozicije PG (organizatorji igre) - kar 2/5, sledijo jim igralci pozicije SG s 1/5. Tako z zagotovostjo lahko potrdimo našo hipotezo."
   ]
  },
  {
   "cell_type": "code",
   "execution_count": 18,
   "metadata": {},
   "outputs": [
    {
     "data": {
      "image/png": "[encoded data removed]",
      "text/plain": [
       "<Figure size 432x432 with 1 Axes>"
      ]
     },
     "metadata": {},
     "output_type": "display_data"
    }
   ],
   "source": [
    "table_position.plot(\n",
    "    kind = 'pie', \n",
    "    y = 'asists', \n",
    "    ylabel='asistnece',\n",
    "    title = \"POVPREČNA RAZDELITEV ASISTENC PO POZICIJAH\", \n",
    "    figsize = (6,6), \n",
    "    autopct='%1.1f%%',\n",
    "    explode = (0.1, 0, 0, 0, 0)\n",
    "    )\n",
    "plt.show()"
   ]
  },
  {
   "cell_type": "markdown",
   "metadata": {},
   "source": [
    "## HIPOTEZA 4\n",
    ">_\"Igralci pozicije C (center) in igralci pozicije PF, dosežejo povprečno več skokov, kot igralci pozicij SF in G (guards) skupaj. Igralci C zabeležijo največ skokov.\"_\n",
    "\n",
    "Preveriti želimo ali res igralci pozicije center (C) zabeležijo največ skokov, ter analizirita kako se njihov procent primerja z ostalimi. Hipoteza pravi tudi, da igralci pozicije center (C) skupaj z igralci pozicije PF zabeležijo več kot polovico vseh skokov, zato bo za analizo spet najbolj primeren tortni diagram (spodaj).<br>\n",
    "Opazimo, da smo prvi del hipoteze narobe zastavili, zato ga ovržemo. Več skokov namreč zabeležijo igralci pozicije PF (vendar le za 0,2% več). Kljub temu pa lahko potrdimo drugi del hipoteze, saj omenjeni poziciji skupaj zabeležita več kot 50% vseh skokov. Preostali skoki so skoraj enakomerno razporejeni med ostale tri pozicije (PG, SG, SF), nekaj več procentov skokov le še \"poberejo\" igralci pozicije SF."
   ]
  },
  {
   "cell_type": "code",
   "execution_count": 19,
   "metadata": {},
   "outputs": [
    {
     "data": {
      "image/png": "[encoded data removed]",
      "text/plain": [
       "<Figure size 432x432 with 1 Axes>"
      ]
     },
     "metadata": {},
     "output_type": "display_data"
    }
   ],
   "source": [
    "table_position.plot(\n",
    "    kind = 'pie', \n",
    "    y = 'rebounds', \n",
    "    ylabel = 'skoki',\n",
    "    title = \"POVPREČNA RAZDELITEV SKOKOV PO POZICIJAH\", \n",
    "    figsize = (6,6), \n",
    "    autopct='%1.1f%%',\n",
    "    explode = (0, 0, 0, 0.1, 0)\n",
    "    )\n",
    "plt.show()"
   ]
  },
  {
   "cell_type": "markdown",
   "metadata": {},
   "source": [
    "### HIPOTEZE 2, 3 IN 4 \n",
    "Zgoraj zapisane opazke/komentarji glede hipotez so tudi dobro razvidne iz spodnjega grafa, na katerem opazimo predvsem sunkovit padec števila asistenc in rast števila skokov, ko se pomikamo od leve proti desni (od PG do C). Tudi padec povprečnega števila točk je lepo razviden, a je le-ta malo bolj položen. "
   ]
  },
  {
   "cell_type": "code",
   "execution_count": 20,
   "metadata": {},
   "outputs": [
    {
     "data": {
      "text/plain": [
       "<AxesSubplot:title={'center':'ŠTEVILO TOČK, ASISTENC IN SKOKOV PO POZICIJAH'}>"
      ]
     },
     "execution_count": 20,
     "metadata": {},
     "output_type": "execute_result"
    },
    {
     "data": {
      "image/png": "[encoded data removed]",
      "text/plain": [
       "<Figure size 576x432 with 1 Axes>"
      ]
     },
     "metadata": {
      "needs_background": "light"
     },
     "output_type": "display_data"
    }
   ],
   "source": [
    "table_position[['rebounds','asists','points_per_game']].plot(\n",
    "    title = \"ŠTEVILO TOČK, ASISTENC IN SKOKOV PO POZICIJAH\", \n",
    "    figsize = (8, 6) \n",
    "    )"
   ]
  },
  {
   "cell_type": "markdown",
   "metadata": {},
   "source": [
    "## HIPOTEZA 5\n",
    ">_\"Igralci pozicij G (guards) imajo največji odstotek meta (tako iz igre kot tudi prostih metov), sledijo jih igralci pozicij F (forwards) in nato igralci pozicije C (center).\"_\n",
    "\n",
    "Preverimo kakšna je korelacija (če sploh kakšna), med izkupičkom meta iz igre (ter tudi izkupičkom prostih metov), ter pozicijo igralca. Grafa spodaj nazorno prikažeta, da smo prvi del hipoteze popolnoma narobe zastavili in je korelacija v resnici ravno obratna - igralci pozicije C imajo večji izkupiček meta iz igre, najslabšega pa igralci pozicije guard (PG). Kljub temu pa lahko potrdimo drugi del naše hipoteze, saj opazimo, da izkupiček prostih metov skoraj linearno pada po pozicijah (od PG pa vse do C)."
   ]
  },
  {
   "cell_type": "code",
   "execution_count": 21,
   "metadata": {},
   "outputs": [
    {
     "data": {
      "text/plain": [
       "array([<AxesSubplot:>, <AxesSubplot:>], dtype=object)"
      ]
     },
     "execution_count": 21,
     "metadata": {},
     "output_type": "execute_result"
    },
    {
     "data": {
      "image/png": "[encoded data removed]",
      "text/plain": [
       "<Figure size 576x432 with 2 Axes>"
      ]
     },
     "metadata": {
      "needs_background": "light"
     },
     "output_type": "display_data"
    }
   ],
   "source": [
    "data = {\n",
    "\t'iz igre': [\n",
    "\t\tpg_mean.fg_pct, \n",
    "\t\tsg_mean.fg_pct, \n",
    "\t\tsf_mean.fg_pct, \n",
    "\t\tpf_mean.fg_pct, \n",
    "\t\tcentri_mean.fg_pct\n",
    "\t\t],\n",
    "\t'prosti meti': [\n",
    "\t\tpg_mean.ft_pct, \n",
    "\t\tsg_mean.ft_pct, \n",
    "\t\tsf_mean.ft_pct,\n",
    "\t\tpf_mean.ft_pct, \n",
    "\t\tcentri_mean.ft_pct\n",
    "\t\t]\n",
    "\t}\n",
    "data_frame = pd.DataFrame(data, index = ['PG','SG','SF','PF','C'])\n",
    "data_frame.plot(\n",
    "\t\tkind='line', \n",
    "\t\tsubplots=True, \n",
    "\t\tgrid=True, \n",
    "\t\ttitle=\"IZKUPIČEK POSAMEZNE KATEGORIJE META PO POZICIJAH\",\n",
    "        legend=True, \n",
    "\t\tfigsize = (8,6),  \n",
    "        style=['r','b'],\n",
    "\t\tmarker='o'\n",
    "        )"
   ]
  },
  {
   "cell_type": "markdown",
   "metadata": {},
   "source": [
    "## HIPOTEZA 6\n",
    ">_\"Igralec z boljših odstotkom meta za 3 ima tudi boljši odstotek meta za 2 (obstaja korelacija med odstotkom meta za 2 in odstotkom meta za 3). Prav tako ima igralec z boljših odstotkom meta za 3 boljši odstotek zadetih prostih metov.\"_\n",
    "\n",
    "Poglejmo ali obstaja korelacija med izkupičkom meta za 3 točke in metom za 2 točki oziroma prostimi meti.\n",
    "Spodnja \"scatter\" grafa nam pokažeta, da sicer prihaja do nekakšnega zgostitvenega območja, tako pri prvem grafu (kjer gledamo korelacijo z metom za 2 točki), kot tudi na drugem grafu (kjer gledamo korelacijo s prostimi meti), vendar so podatki vseeno preveč razpršeni, da bi lahko potrdili direktno korelacijo in s tem našo hipotezo. Zato jo ovržemo. Opazimo predvsem 3 področja neujemanja, kjer zaznamo (tako na prvem kot tudi drugem grafu) pri fiksni vrednosti meta za 3 točke, skoraj celoten spekter izkupička meta za 2 točki na prvem in izkupičku prostih metov na drugem grafu. Ta območja so pri zelo nizkem, ter zelo visokem izkupičku meta za 3 točke (blizu 0.0 in 1.0), ter med njima še bolj presenetljivo okoli vrednosti 0.4 izkupička meta za 3 točke."
   ]
  },
  {
   "cell_type": "code",
   "execution_count": 22,
   "metadata": {},
   "outputs": [
    {
     "data": {
      "text/plain": [
       "<AxesSubplot:title={'center':'POVEZAVA MED IZKUPIČKOM META ZA 3 TOČKE IN PROSTIMI METI'}, xlabel='met za 3 točke', ylabel='prosti meti'>"
      ]
     },
     "execution_count": 22,
     "metadata": {},
     "output_type": "execute_result"
    },
    {
     "data": {
      "image/png": "[encoded data removed]",
      "text/plain": [
       "<Figure size 504x360 with 1 Axes>"
      ]
     },
     "metadata": {
      "needs_background": "light"
     },
     "output_type": "display_data"
    },
    {
     "data": {
      "image/png": "[encoded data removed]",
      "text/plain": [
       "<Figure size 504x360 with 1 Axes>"
      ]
     },
     "metadata": {
      "needs_background": "light"
     },
     "output_type": "display_data"
    }
   ],
   "source": [
    "igralci.plot(\n",
    "    kind = 'scatter', \n",
    "    x='fg3_pct', \n",
    "    y='fg2_pct', \n",
    "    xlabel = 'met za 3 točke',\n",
    "    ylabel= 'met za 2 točki',\n",
    "    figsize =(7,5), \n",
    "    title = 'POVEZAVA MED IZKUPIČKOM META ZA 3 IN METOM ZA 2 TOČKI'\n",
    "    )\n",
    "igralci.plot(\n",
    "    kind = 'scatter', \n",
    "    x='fg3_pct',\n",
    "    y='ft_pct',\n",
    "    xlabel = 'met za 3 točke',\n",
    "    ylabel='prosti meti',\n",
    "    figsize =(7,5),\n",
    "    title = 'POVEZAVA MED IZKUPIČKOM META ZA 3 TOČKE IN PROSTIMI METI'\n",
    "    )"
   ]
  },
  {
   "cell_type": "markdown",
   "metadata": {},
   "source": [
    "## HIPOTEZA 7\n",
    ">_\"Igralci z večjim povprečjem doseženimi točkam imajo tudi boljših odstotkom meta iz igre.\"_\n",
    "\n",
    "Vrnimo se spet na \"osnovno\" tabelo. Preverimo ali res obstaja povezava med številom doseženim točk in procentom/izkupičkom meta. Ko narišemo spodnji \"scatter\" graf opazimo, da sicer se vrednost izkupička meta nekoliko stabilizira, ko se premaknemo k večjemu povprečju, a vseeno ne gre za odvisnost, ki smo jo predvideli v hipotezi, zato jo ovržemo. Opazimo, da je predvsem pri nižjem povprečju \"spekter\" izkupička kar velik (imamo zelo učinkovite igralce z niznim povprečjem in igralce s slabim povprečjem in slabim izkupičkom)."
   ]
  },
  {
   "cell_type": "code",
   "execution_count": 23,
   "metadata": {},
   "outputs": [
    {
     "data": {
      "text/plain": [
       "<AxesSubplot:title={'center':'IZKUPIČEK META IZ IGRE V ODVISNOSTI OD ŠTEVILA TOČK'}, xlabel='število točk na tekmo', ylabel='izkupiček meta'>"
      ]
     },
     "execution_count": 23,
     "metadata": {},
     "output_type": "execute_result"
    },
    {
     "data": {
      "image/png": "[encoded data removed]",
      "text/plain": [
       "<Figure size 576x432 with 1 Axes>"
      ]
     },
     "metadata": {
      "needs_background": "light"
     },
     "output_type": "display_data"
    }
   ],
   "source": [
    "tocke = igralci.sort_values('points_per_game', ascending=False)\n",
    "tocke.plot(\n",
    "    kind = 'scatter', \n",
    "    x='points_per_game', \n",
    "    y='fg_pct', \n",
    "    color='LightGreen', \n",
    "    xlabel='število točk na tekmo', \n",
    "    ylabel='izkupiček meta',\n",
    "    title='IZKUPIČEK META IZ IGRE V ODVISNOSTI OD ŠTEVILA TOČK',\n",
    "    figsize = (8,6)\n",
    "    )"
   ]
  },
  {
   "cell_type": "markdown",
   "metadata": {},
   "source": [
    "## ZAKLJUČEK\n",
    "Prek analize naših sedmih hipotez opazimo, da obstajajo povezave med igralci, ter njihovim povprečjem (asistenc, skokov, točk), vendar so te korelacije \"lepše\" vidne če igralce smiselno najprej pogrupiramo po pozicijah. Tako še dodatno raziščemo karakteristike vsake izmed pozicij, ter razlike med le-temi. Presenetljivo je, da ni velike korelacije med izkupičkom meta po posameznih kategorijah oziroma posamezni razdalji (2, 3 točke). Z nadaljno analizo bi bilo vredno raziskati zakaj je temu res tako."
   ]
  }
 ],
 "metadata": {
  "interpreter": {
   "hash": "23393d2575091a37cff0d0e9e7479591a295495b26c3b2ebf9b64da572e02d85"
  },
  "kernelspec": {
   "display_name": "OCaml 4.11",
   "language": "python",
   "name": "python3"
  },
  "language_info": {
   "codemirror_mode": {
    "name": "ipython",
    "version": 3
   },
   "file_extension": ".py",
   "mimetype": "text/x-python",
   "name": "python",
   "nbconvert_exporter": "python",
   "pygments_lexer": "ipython3",
   "version": "3.9.1"
  },
  "orig_nbformat": 4
 },
 "nbformat": 4,
 "nbformat_minor": 2
}
